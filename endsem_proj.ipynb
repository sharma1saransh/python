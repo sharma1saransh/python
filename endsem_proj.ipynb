{
  "cells": [
    {
      "cell_type": "markdown",
      "metadata": {
        "id": "view-in-github",
        "colab_type": "text"
      },
      "source": [
        "<a href=\"https://colab.research.google.com/github/sharma1saransh/python/blob/main/endsem_proj.ipynb\" target=\"_parent\"><img src=\"https://colab.research.google.com/assets/colab-badge.svg\" alt=\"Open In Colab\"/></a>"
      ]
    },
    {
      "cell_type": "code",
      "source": [
        "import random\n",
        "\n",
        "class PasswordGenerator:\n",
        "    def __init__(self, chars, number, length):\n",
        "        self.chars = chars\n",
        "        self.number = number\n",
        "        self.length = length\n",
        "\n",
        "    def generate_password(self):\n",
        "        return ''.join(random.choice(self.chars) for _ in range(self.length))\n",
        "\n",
        "    def generate_passwords(self):\n",
        "        print('Welcome to Password Generator\\n')\n",
        "        print('Here are your passwords:')\n",
        "        for _ in range(self.number):\n",
        "            print(self.generate_password())\n",
        "\n",
        "\n",
        "def main():\n",
        "    chars = 'abcdefghijklmnopqrstuvwxyzABCDEFGHIJKLMNOPQRSTUVWXYZ!@#$%^&*1234567890'\n",
        "    number = int(input(\"Number of passwords to generate: \"))\n",
        "    length = int(input(\"Enter the length of your password: \"))\n",
        "\n",
        "    generator = PasswordGenerator(chars, number, length)\n",
        "    generator.generate_passwords()\n",
        "\n",
        "if __name__ == \"__main__\":\n",
        "    main()\n"
      ],
      "metadata": {
        "colab": {
          "base_uri": "https://localhost:8080/"
        },
        "id": "s2i230aFnxMd",
        "outputId": "1f56f495-01e8-4e45-ab79-9912b447d38e"
      },
      "execution_count": 1,
      "outputs": [
        {
          "output_type": "stream",
          "name": "stdout",
          "text": [
            "Number of passwords to generate: 5\n",
            "Enter the length of your password: 2\n",
            "Welcome to Password Generator\n",
            "\n",
            "Here are your passwords:\n",
            "JA\n",
            "BO\n",
            "bd\n",
            "!^\n",
            "IB\n"
          ]
        }
      ]
    }
  ],
  "metadata": {
    "colab": {
      "provenance": [],
      "authorship_tag": "ABX9TyPNu5+gOBcZPMlP/CIYXEEU",
      "include_colab_link": true
    },
    "kernelspec": {
      "display_name": "Python 3",
      "name": "python3"
    },
    "language_info": {
      "name": "python"
    }
  },
  "nbformat": 4,
  "nbformat_minor": 0
}