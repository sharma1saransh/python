{
  "cells": [
    {
      "cell_type": "markdown",
      "metadata": {
        "id": "view-in-github",
        "colab_type": "text"
      },
      "source": [
        "<a href=\"https://colab.research.google.com/github/sharma1saransh/python/blob/main/endsem_proj.ipynb\" target=\"_parent\"><img src=\"https://colab.research.google.com/assets/colab-badge.svg\" alt=\"Open In Colab\"/></a>"
      ]
    },
    {
      "cell_type": "code",
      "execution_count": null,
      "metadata": {
        "colab": {
          "background_save": true,
          "base_uri": "https://localhost:8080/"
        },
        "id": "ewHFNoN_Oy1r",
        "outputId": "d8135aea-40d7-49fa-fab5-857825f2a755"
      },
      "outputs": [
        {
          "name": "stdout",
          "output_type": "stream",
          "text": [
            "Welcome to Password Generator\n"
          ]
        }
      ],
      "source": [
        "import random\n",
        "\n",
        "print('Welcome to Password Generator')\n",
        "\n",
        "chars = 'abcdefghijklmnopqrstuvwxyzABCDEFGHIJKLMNOPQRSTUVWXYZ!@#$%^&*1234567890'\n",
        "number = input(\"number of passwords to generate : \")\n",
        "number = int(number)\n",
        "\n",
        "length = input(\"enter the length of your password : \")\n",
        "length = int(length)\n",
        "\n",
        "print('\\n here are your passwords')\n",
        "\n",
        "for pwd in range(number):\n",
        "  passwords = ''\n",
        "  for c in range(length):\n",
        "    passwords += random.choice(chars)\n",
        "  print(passwords)\n"
      ]
    }
  ],
  "metadata": {
    "colab": {
      "provenance": [],
      "authorship_tag": "ABX9TyPKHPc7Qic18LuZ4PQEX2e3",
      "include_colab_link": true
    },
    "kernelspec": {
      "display_name": "Python 3",
      "name": "python3"
    },
    "language_info": {
      "name": "python"
    }
  },
  "nbformat": 4,
  "nbformat_minor": 0
}