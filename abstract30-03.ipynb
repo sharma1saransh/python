{
  "nbformat": 4,
  "nbformat_minor": 0,
  "metadata": {
    "colab": {
      "provenance": [],
      "authorship_tag": "ABX9TyPSpiUIEsD534feVDNrbg70",
      "include_colab_link": true
    },
    "kernelspec": {
      "name": "python3",
      "display_name": "Python 3"
    },
    "language_info": {
      "name": "python"
    }
  },
  "cells": [
    {
      "cell_type": "markdown",
      "metadata": {
        "id": "view-in-github",
        "colab_type": "text"
      },
      "source": [
        "<a href=\"https://colab.research.google.com/github/sharma1saransh/python/blob/main/abstract30-03.ipynb\" target=\"_parent\"><img src=\"https://colab.research.google.com/assets/colab-badge.svg\" alt=\"Open In Colab\"/></a>"
      ]
    },
    {
      "cell_type": "markdown",
      "source": [
        "1. Define a class named shape and its subclass square. The square class has an init function which takes a length as argument. Both classes have an area function which can print the area of the shape where shape's area is 0 by default."
      ],
      "metadata": {
        "id": "KQcQuZ1FfHaM"
      }
    },
    {
      "cell_type": "code",
      "source": [
        "class Shape:\n",
        "  def area(self):\n",
        "    area=0\n",
        "class Square(Shape):\n",
        "  def __init__(self,length):\n",
        "    self.length=length\n",
        "  def area(self):\n",
        "    print(\"the area of the square is \", self.length*self.length)\n",
        "n= int(input(\"enter the length\"))\n",
        "A1=Square(n)\n",
        "A1.area()"
      ],
      "metadata": {
        "colab": {
          "base_uri": "https://localhost:8080/"
        },
        "id": "R_BlC77rg_3K",
        "outputId": "f90e77ea-dbad-4ab4-ad51-559f1d6ce64c"
      },
      "execution_count": 5,
      "outputs": [
        {
          "output_type": "stream",
          "name": "stdout",
          "text": [
            "enter the length7\n",
            "the area of the square is  49\n"
          ]
        }
      ]
    },
    {
      "cell_type": "markdown",
      "source": [
        "Define a class named shape and its subclass square. The square class has an init function which takes a length as argument. Both classes have an area function which can print the area of the shape where shape's area is 0 by default. (teacher's)"
      ],
      "metadata": {
        "id": "Y2IPG6MxijtD"
      }
    },
    {
      "cell_type": "code",
      "source": [
        "class Shape:\n",
        "  def __init__(self):\n",
        "    print(\"i am in shape class\")\n",
        "  def area(self):\n",
        "    return 0\n",
        "\n",
        "\n",
        "class Square(Shape):\n",
        "  def __init__(self,length):\n",
        "    self.l=length\n",
        "    print(\"i am in square class\")\n",
        "  def area(self):\n",
        "    print(self.l*self.l)\n",
        "\n",
        "s1=Shape()\n",
        "s1.area()\n",
        "s2=Square(10)\n",
        "s2.area()"
      ],
      "metadata": {
        "colab": {
          "base_uri": "https://localhost:8080/"
        },
        "id": "M_H15ZDEiud3",
        "outputId": "b35c28c3-26ee-469c-82be-9fba64bf0f53"
      },
      "execution_count": 22,
      "outputs": [
        {
          "output_type": "stream",
          "name": "stdout",
          "text": [
            "i am in shape class\n",
            "i am in square class\n",
            "100\n"
          ]
        }
      ]
    },
    {
      "cell_type": "markdown",
      "source": [
        "practice\n"
      ],
      "metadata": {
        "id": "YOnevbkonAnA"
      }
    },
    {
      "cell_type": "code",
      "source": [
        "class Shape:\n",
        "  def __init__(self):\n",
        "    self.sq = self.Square()\n",
        "    print(\"i am in shape class\")\n",
        "  def area(self):\n",
        "    return 0\n",
        "\n",
        "\n",
        "  class Square:\n",
        "\n",
        "    def __init__(self,length):\n",
        "      self.l=length\n",
        "      print(\"i am in square class\")\n",
        "    def area(self):\n",
        "      print(self.l**2)\n",
        "\n",
        "s1=Shape()\n",
        "s1.area()\n",
        "s2=Square(10)\n",
        "s2.area()\n"
      ],
      "metadata": {
        "colab": {
          "base_uri": "https://localhost:8080/",
          "height": 332
        },
        "id": "a02uhuu8nZ5I",
        "outputId": "b4803c17-c3e1-4d86-cb53-c9e731fc4634"
      },
      "execution_count": 25,
      "outputs": [
        {
          "output_type": "error",
          "ename": "TypeError",
          "evalue": "Shape.Square.__init__() missing 1 required positional argument: 'length'",
          "traceback": [
            "\u001b[0;31m---------------------------------------------------------------------------\u001b[0m",
            "\u001b[0;31mTypeError\u001b[0m                                 Traceback (most recent call last)",
            "\u001b[0;32m<ipython-input-25-1ec65213ce3a>\u001b[0m in \u001b[0;36m<cell line: 17>\u001b[0;34m()\u001b[0m\n\u001b[1;32m     15\u001b[0m       \u001b[0mprint\u001b[0m\u001b[0;34m(\u001b[0m\u001b[0mself\u001b[0m\u001b[0;34m.\u001b[0m\u001b[0ml\u001b[0m\u001b[0;34m**\u001b[0m\u001b[0;36m2\u001b[0m\u001b[0;34m)\u001b[0m\u001b[0;34m\u001b[0m\u001b[0;34m\u001b[0m\u001b[0m\n\u001b[1;32m     16\u001b[0m \u001b[0;34m\u001b[0m\u001b[0m\n\u001b[0;32m---> 17\u001b[0;31m \u001b[0ms1\u001b[0m\u001b[0;34m=\u001b[0m\u001b[0mShape\u001b[0m\u001b[0;34m(\u001b[0m\u001b[0;34m)\u001b[0m\u001b[0;34m\u001b[0m\u001b[0;34m\u001b[0m\u001b[0m\n\u001b[0m\u001b[1;32m     18\u001b[0m \u001b[0ms1\u001b[0m\u001b[0;34m.\u001b[0m\u001b[0marea\u001b[0m\u001b[0;34m(\u001b[0m\u001b[0;34m)\u001b[0m\u001b[0;34m\u001b[0m\u001b[0;34m\u001b[0m\u001b[0m\n\u001b[1;32m     19\u001b[0m \u001b[0ms2\u001b[0m\u001b[0;34m=\u001b[0m\u001b[0mSquare\u001b[0m\u001b[0;34m(\u001b[0m\u001b[0;36m10\u001b[0m\u001b[0;34m)\u001b[0m\u001b[0;34m\u001b[0m\u001b[0;34m\u001b[0m\u001b[0m\n",
            "\u001b[0;32m<ipython-input-25-1ec65213ce3a>\u001b[0m in \u001b[0;36m__init__\u001b[0;34m(self)\u001b[0m\n\u001b[1;32m      1\u001b[0m \u001b[0;32mclass\u001b[0m \u001b[0mShape\u001b[0m\u001b[0;34m:\u001b[0m\u001b[0;34m\u001b[0m\u001b[0;34m\u001b[0m\u001b[0m\n\u001b[1;32m      2\u001b[0m   \u001b[0;32mdef\u001b[0m \u001b[0m__init__\u001b[0m\u001b[0;34m(\u001b[0m\u001b[0mself\u001b[0m\u001b[0;34m)\u001b[0m\u001b[0;34m:\u001b[0m\u001b[0;34m\u001b[0m\u001b[0;34m\u001b[0m\u001b[0m\n\u001b[0;32m----> 3\u001b[0;31m     \u001b[0mself\u001b[0m\u001b[0;34m.\u001b[0m\u001b[0msq\u001b[0m \u001b[0;34m=\u001b[0m \u001b[0mself\u001b[0m\u001b[0;34m.\u001b[0m\u001b[0mSquare\u001b[0m\u001b[0;34m(\u001b[0m\u001b[0;34m)\u001b[0m\u001b[0;34m\u001b[0m\u001b[0;34m\u001b[0m\u001b[0m\n\u001b[0m\u001b[1;32m      4\u001b[0m     \u001b[0mprint\u001b[0m\u001b[0;34m(\u001b[0m\u001b[0;34m\"i am in shape class\"\u001b[0m\u001b[0;34m)\u001b[0m\u001b[0;34m\u001b[0m\u001b[0;34m\u001b[0m\u001b[0m\n\u001b[1;32m      5\u001b[0m   \u001b[0;32mdef\u001b[0m \u001b[0marea\u001b[0m\u001b[0;34m(\u001b[0m\u001b[0mself\u001b[0m\u001b[0;34m)\u001b[0m\u001b[0;34m:\u001b[0m\u001b[0;34m\u001b[0m\u001b[0;34m\u001b[0m\u001b[0m\n",
            "\u001b[0;31mTypeError\u001b[0m: Shape.Square.__init__() missing 1 required positional argument: 'length'"
          ]
        }
      ]
    },
    {
      "cell_type": "code",
      "source": [
        "class Shape:\n",
        "  def __init__(self):\n",
        "    self.s=self.Square()\n",
        "  def area(self):\n",
        "    return 0\n",
        "  class Square:\n",
        "    def __init__(self):\n",
        "      print(\"welcome to square class\")\n",
        "    def area(self,length):\n",
        "      self.l=length\n",
        "      print(\"area is : \", self.l*self.l)\n",
        "\n",
        "n=int(input(\"enter the length\"))\n",
        "a1=Shape()\n",
        "a1.s.area(n)"
      ],
      "metadata": {
        "colab": {
          "base_uri": "https://localhost:8080/"
        },
        "id": "N6N32V4Srr41",
        "outputId": "8da19a21-aa0c-4775-af1b-a15db77c7d79"
      },
      "execution_count": 26,
      "outputs": [
        {
          "output_type": "stream",
          "name": "stdout",
          "text": [
            "enter the length9\n",
            "welcome to square class\n",
            "area is :  81\n"
          ]
        }
      ]
    },
    {
      "cell_type": "markdown",
      "source": [
        "create a professor class in employee and implement the details"
      ],
      "metadata": {
        "id": "B4DANa6GsDgT"
      }
    },
    {
      "cell_type": "code",
      "source": [
        "import abc\n",
        "from abc import ABC, abstractmethod\n",
        "class Employee(ABC):\n",
        "  @abstractmethod\n",
        "  def isapID(self):\n",
        "    pass\n",
        "  @abstractmethod\n",
        "  def iemail(self):\n",
        "    pass\n",
        "  def iname(self,name):\n",
        "    print(\"my name\")\n",
        "\n",
        "\n",
        "\n",
        "class Professor(Employee):\n",
        "  def __init__(self,sapID,email,name):\n",
        "    self.id=sapID\n",
        "    self.email=email\n",
        "    self.name=name\n",
        "  def isapID(self):\n",
        "    print(\"sapID : \", self.id)\n",
        "  def iemail(self):\n",
        "    print(\"email : \",self.email)\n",
        "  def iname(self):\n",
        "    print(\"name : \", self.name)\n",
        "\n",
        "s=int(input(\"enter the sapid : \"))\n",
        "e=input(\"enter the email\")\n",
        "n=input(\"enter the name\")\n",
        "P1=Professor(s,e,n)\n",
        "P1.isapID()\n",
        "P1.iemail()\n",
        "P1.iname()"
      ],
      "metadata": {
        "colab": {
          "base_uri": "https://localhost:8080/"
        },
        "id": "omEPW3CdsUVc",
        "outputId": "07e6fde9-8bd1-42b4-ab7f-99224c2d6891"
      },
      "execution_count": 43,
      "outputs": [
        {
          "output_type": "stream",
          "name": "stdout",
          "text": [
            "enter the sapid : 123\n",
            "enter the emailabc\n",
            "enter the namesajid\n",
            "sapID :  123\n",
            "email :  abc\n",
            "name :  sajid\n"
          ]
        }
      ]
    },
    {
      "cell_type": "code",
      "source": [
        "n"
      ],
      "metadata": {
        "id": "sfbI67SEu7QG"
      },
      "execution_count": null,
      "outputs": []
    }
  ]
}