{
  "nbformat": 4,
  "nbformat_minor": 0,
  "metadata": {
    "colab": {
      "provenance": [],
      "authorship_tag": "ABX9TyNdnd9li/xI8z26803/ewuH",
      "include_colab_link": true
    },
    "kernelspec": {
      "name": "python3",
      "display_name": "Python 3"
    },
    "language_info": {
      "name": "python"
    }
  },
  "cells": [
    {
      "cell_type": "markdown",
      "metadata": {
        "id": "view-in-github",
        "colab_type": "text"
      },
      "source": [
        "<a href=\"https://colab.research.google.com/github/sharma1saransh/python/blob/main/py210224.ipynb\" target=\"_parent\"><img src=\"https://colab.research.google.com/assets/colab-badge.svg\" alt=\"Open In Colab\"/></a>"
      ]
    },
    {
      "cell_type": "code",
      "execution_count": null,
      "metadata": {
        "id": "802W2YLLnKZg"
      },
      "outputs": [],
      "source": []
    },
    {
      "cell_type": "markdown",
      "source": [
        "sum of the cube of all the positive integers smaller than the specified number"
      ],
      "metadata": {
        "id": "aMHDPHxvnafw"
      }
    },
    {
      "cell_type": "code",
      "source": [
        "def cube(n):\n",
        " sum=0\n",
        " for i in range(1,n):\n",
        "  sum=sum+(i**3)\n",
        " print(sum)\n",
        "\n",
        "\n",
        "\n",
        "a=int(input(\"enter a number\"))\n",
        "cube(a)"
      ],
      "metadata": {
        "colab": {
          "base_uri": "https://localhost:8080/"
        },
        "id": "gihcA9Din2YF",
        "outputId": "1d682ddf-691e-4638-bee9-318ac5af94dd"
      },
      "execution_count": null,
      "outputs": [
        {
          "output_type": "stream",
          "name": "stdout",
          "text": [
            "enter a number5\n",
            "100\n"
          ]
        }
      ]
    },
    {
      "cell_type": "markdown",
      "source": [
        "fibo"
      ],
      "metadata": {
        "id": "P7iTISSEqdSC"
      }
    },
    {
      "cell_type": "code",
      "source": [
        "def fibo(n):\n",
        "  a=0\n",
        "  b=1\n",
        "  c=0\n",
        "  for i in range(1,n):\n",
        "    c=a+b\n",
        "    a=b\n",
        "    b=c\n",
        "    print(c)\n",
        "\n",
        "\n",
        "\n",
        "\n",
        "\n",
        "a=int(input(\"enter the max number in fibonacci\"))\n",
        "fibo(a)"
      ],
      "metadata": {
        "colab": {
          "base_uri": "https://localhost:8080/"
        },
        "id": "kmzuHOX1quIN",
        "outputId": "39ac8ae9-5720-48b5-9e89-13ef332f50d7"
      },
      "execution_count": null,
      "outputs": [
        {
          "output_type": "stream",
          "name": "stdout",
          "text": [
            "enter the max number in fibonacci10\n",
            "1\n",
            "2\n",
            "3\n",
            "5\n",
            "8\n",
            "13\n",
            "21\n",
            "34\n",
            "55\n"
          ]
        }
      ]
    },
    {
      "cell_type": "markdown",
      "source": [
        "lambda function"
      ],
      "metadata": {
        "id": "MRQTZ0CDtQ_m"
      }
    },
    {
      "cell_type": "code",
      "source": [
        "def min_max(list1):\n",
        "  l=len(list1)\n",
        "  n=1\n",
        "  min=list1[0]\n",
        "  max=list1[0]\n",
        "  for i in range(list1[n],list1[l]):\n",
        "    if min<list1[n]:\n",
        "      n+=1\n",
        "    else:\n",
        "      min=list1[n]\n",
        "    if max>list1[n]:\n",
        "\n",
        "\n"
      ],
      "metadata": {
        "id": "fG3SPArbtx-9"
      },
      "execution_count": null,
      "outputs": []
    }
  ]
}