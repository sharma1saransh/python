{
  "nbformat": 4,
  "nbformat_minor": 0,
  "metadata": {
    "colab": {
      "provenance": [],
      "authorship_tag": "ABX9TyP8h/xtKi+xNebXl8hCjZ++",
      "include_colab_link": true
    },
    "kernelspec": {
      "name": "python3",
      "display_name": "Python 3"
    },
    "language_info": {
      "name": "python"
    }
  },
  "cells": [
    {
      "cell_type": "markdown",
      "metadata": {
        "id": "view-in-github",
        "colab_type": "text"
      },
      "source": [
        "<a href=\"https://colab.research.google.com/github/sharma1saransh/python/blob/main/factandfib.ipynb\" target=\"_parent\"><img src=\"https://colab.research.google.com/assets/colab-badge.svg\" alt=\"Open In Colab\"/></a>"
      ]
    },
    {
      "cell_type": "code",
      "execution_count": null,
      "metadata": {
        "id": "Hz3UcS89oyKZ",
        "colab": {
          "base_uri": "https://localhost:8080/"
        },
        "outputId": "2291604f-158c-403e-cfb5-42d7beb1f280"
      },
      "outputs": [
        {
          "output_type": "stream",
          "name": "stdout",
          "text": [
            "the factorial for 7 is :  5040\n"
          ]
        }
      ],
      "source": [
        "def fact(n):\n",
        " if(n==0 or n==1):\n",
        "   return 1\n",
        " else:\n",
        "  a=1\n",
        "  for i in range(2,n+1):\n",
        "    a=a*i\n",
        "  print(\"the factorial for\", n, \"is : \", a)\n",
        "fact(7)"
      ]
    },
    {
      "cell_type": "code",
      "source": [
        "def fib(n):\n",
        "  a=0\n",
        "  b=1\n",
        "  for i in range(2,n+1):\n",
        "      c=a+b\n",
        "      a=b\n",
        "      b=c\n",
        "      print(c)\n",
        "fib(13)"
      ],
      "metadata": {
        "colab": {
          "base_uri": "https://localhost:8080/"
        },
        "id": "vmeftZRPLyKs",
        "outputId": "a652de38-3f70-4075-d135-7ab9f0f1f259"
      },
      "execution_count": null,
      "outputs": [
        {
          "output_type": "stream",
          "name": "stdout",
          "text": [
            "1\n",
            "2\n",
            "3\n",
            "5\n",
            "8\n",
            "13\n",
            "21\n",
            "34\n",
            "55\n",
            "89\n",
            "144\n",
            "233\n"
          ]
        }
      ]
    },
    {
      "cell_type": "code",
      "source": [],
      "metadata": {
        "id": "tZ3ymaB8OItr"
      },
      "execution_count": null,
      "outputs": []
    }
  ]
}