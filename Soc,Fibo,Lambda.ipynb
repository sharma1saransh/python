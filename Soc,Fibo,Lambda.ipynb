{
  "nbformat": 4,
  "nbformat_minor": 0,
  "metadata": {
    "colab": {
      "provenance": [],
      "authorship_tag": "ABX9TyOg9Hkgq75KS/9k5nOV0Uv7",
      "include_colab_link": true
    },
    "kernelspec": {
      "name": "python3",
      "display_name": "Python 3"
    },
    "language_info": {
      "name": "python"
    }
  },
  "cells": [
    {
      "cell_type": "markdown",
      "metadata": {
        "id": "view-in-github",
        "colab_type": "text"
      },
      "source": [
        "<a href=\"https://colab.research.google.com/github/sharma1saransh/python/blob/main/Soc%2CFibo%2CLambda.ipynb\" target=\"_parent\"><img src=\"https://colab.research.google.com/assets/colab-badge.svg\" alt=\"Open In Colab\"/></a>"
      ]
    },
    {
      "cell_type": "code",
      "execution_count": null,
      "metadata": {
        "id": "802W2YLLnKZg"
      },
      "outputs": [],
      "source": []
    },
    {
      "cell_type": "markdown",
      "source": [
        "sum of the cube of all the positive integers smaller than the specified number"
      ],
      "metadata": {
        "id": "aMHDPHxvnafw"
      }
    },
    {
      "cell_type": "code",
      "source": [
        "def cube(n):\n",
        " sum=0\n",
        " for i in range(1,n):\n",
        "  sum=sum+(i**3)\n",
        " print(sum)\n",
        "\n",
        "\n",
        "\n",
        "a=int(input(\"enter a number\"))\n",
        "cube(a)"
      ],
      "metadata": {
        "colab": {
          "base_uri": "https://localhost:8080/"
        },
        "id": "gihcA9Din2YF",
        "outputId": "1d682ddf-691e-4638-bee9-318ac5af94dd"
      },
      "execution_count": null,
      "outputs": [
        {
          "output_type": "stream",
          "name": "stdout",
          "text": [
            "enter a number5\n",
            "100\n"
          ]
        }
      ]
    },
    {
      "cell_type": "markdown",
      "source": [
        "fibo"
      ],
      "metadata": {
        "id": "P7iTISSEqdSC"
      }
    },
    {
      "cell_type": "code",
      "source": [
        "def fibo(n):\n",
        "  a=0\n",
        "  b=1\n",
        "  c=0\n",
        "  for i in range(1,n):\n",
        "    c=a+b\n",
        "    a=b\n",
        "    b=c\n",
        "    print(c)\n",
        "\n",
        "\n",
        "\n",
        "\n",
        "\n",
        "a=int(input(\"enter the max number in fibonacci\"))\n",
        "fibo(a)"
      ],
      "metadata": {
        "colab": {
          "base_uri": "https://localhost:8080/"
        },
        "id": "kmzuHOX1quIN",
        "outputId": "39ac8ae9-5720-48b5-9e89-13ef332f50d7"
      },
      "execution_count": null,
      "outputs": [
        {
          "output_type": "stream",
          "name": "stdout",
          "text": [
            "enter the max number in fibonacci10\n",
            "1\n",
            "2\n",
            "3\n",
            "5\n",
            "8\n",
            "13\n",
            "21\n",
            "34\n",
            "55\n"
          ]
        }
      ]
    },
    {
      "cell_type": "markdown",
      "source": [
        "lambda function"
      ],
      "metadata": {
        "id": "MRQTZ0CDtQ_m"
      }
    },
    {
      "cell_type": "code",
      "source": [
        "def min_max(list1):\n",
        "    if not list1:  # Check if the list is empty\n",
        "        return None, None\n",
        "\n",
        "    minimum = list1[0]\n",
        "    maximum = list1[0]\n",
        "\n",
        "    for num in list1:\n",
        "        if num < minimum:\n",
        "            minimum = num\n",
        "        if num > maximum:\n",
        "            maximum = num\n",
        "\n",
        "    return minimum, maximum\n",
        "\n",
        "list1 = [3, 1, 7, 4, 9, 2]\n",
        "min_val, max_val = min_max(list1)\n",
        "print(\"Minimum:\", min_val)\n",
        "print(\"Maximum:\", max_val)\n",
        "\n",
        "\n",
        "\n"
      ],
      "metadata": {
        "id": "fG3SPArbtx-9",
        "colab": {
          "base_uri": "https://localhost:8080/"
        },
        "outputId": "45454458-f266-4e05-cfe7-63927d3b16e2"
      },
      "execution_count": 2,
      "outputs": [
        {
          "output_type": "stream",
          "name": "stdout",
          "text": [
            "Minimum: 1\n",
            "Maximum: 9\n"
          ]
        }
      ]
    }
  ]
}