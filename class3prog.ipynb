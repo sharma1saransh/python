{
  "nbformat": 4,
  "nbformat_minor": 0,
  "metadata": {
    "colab": {
      "provenance": [],
      "authorship_tag": "ABX9TyPbzzkfGHoA3P03eR7Cszfj",
      "include_colab_link": true
    },
    "kernelspec": {
      "name": "python3",
      "display_name": "Python 3"
    },
    "language_info": {
      "name": "python"
    }
  },
  "cells": [
    {
      "cell_type": "markdown",
      "metadata": {
        "id": "view-in-github",
        "colab_type": "text"
      },
      "source": [
        "<a href=\"https://colab.research.google.com/github/sharma1saransh/python/blob/main/class3prog.ipynb\" target=\"_parent\"><img src=\"https://colab.research.google.com/assets/colab-badge.svg\" alt=\"Open In Colab\"/></a>"
      ]
    },
    {
      "cell_type": "code",
      "execution_count": null,
      "metadata": {
        "colab": {
          "base_uri": "https://localhost:8080/"
        },
        "id": "8dQ-yjgIBdPl",
        "outputId": "6b5d8744-7e8c-4d05-99cc-9694d8e9aecf"
      },
      "outputs": [
        {
          "output_type": "stream",
          "name": "stdout",
          "text": [
            "i am inside a\n",
            "show1 of A\n",
            "show 2 of A\n",
            "i am inside a\n",
            "i am inside b\n",
            "show1 of A\n",
            "show 2 of A\n",
            "i am inside c\n",
            "show1 of A\n"
          ]
        }
      ],
      "source": [
        "class A:\n",
        "    def __init__(self):\n",
        "       print(\"i am inside a\")\n",
        "    def showA1(self):\n",
        "       print(\"show1 of A\")\n",
        "    def showA2(self):\n",
        "       print(\"show 2 of A\")\n",
        "a1=A()\n",
        "a1.showA1()\n",
        "a1.showA2()\n",
        "\n",
        "class B(A):\n",
        "    def __init__(self):\n",
        "       super().__init__()\n",
        "       print(\"i am inside b\")\n",
        "    def show1(self):\n",
        "       super().show1()\n",
        "       print(\"show1 of b\")\n",
        "    def show2(self):\n",
        "       super().show2()\n",
        "       print(\"show 2 of b\")\n",
        "b1=B()\n",
        "b1.showA1()\n",
        "b1.showA2()\n",
        "\n",
        "class C(B):\n",
        "    def __init__(self):\n",
        "\n",
        "       print(\"i am inside c\")\n",
        "    def showc1(self):\n",
        "\n",
        "       print(\"show1 of c\")\n",
        "    def showc2(self):\n",
        "\n",
        "       print(\"show 2 of c\")\n",
        "c1=C()\n",
        "c1.showA1()"
      ]
    },
    {
      "cell_type": "code",
      "source": [
        "class DivisibleByEleven:\n",
        "    def __init__(self, n):\n",
        "        self.n = n\n",
        "\n",
        "    def generate_divisible_by_eleven(self):\n",
        "        for num in range(self.n + 1):\n",
        "            if num % 11 == 0:\n",
        "                print(num)\n",
        "\n",
        "\n",
        "number = int(input(\"Enter a number: \"))\n",
        "\n",
        "obj = DivisibleByEleven(number)\n",
        "obj.generate_divisible_by_eleven()\n"
      ],
      "metadata": {
        "id": "u0rCp4G2BgmW",
        "colab": {
          "base_uri": "https://localhost:8080/"
        },
        "outputId": "33f100b0-1399-4b6c-87ec-006327c97974"
      },
      "execution_count": 5,
      "outputs": [
        {
          "output_type": "stream",
          "name": "stdout",
          "text": [
            "Enter a number: 55\n",
            "0\n",
            "11\n",
            "22\n",
            "33\n",
            "44\n",
            "55\n"
          ]
        }
      ]
    },
    {
      "cell_type": "code",
      "source": [
        "class Fruit:\n",
        "    def taste(self):\n",
        "        pass\n",
        "\n",
        "    def color(self):\n",
        "        pass\n",
        "\n",
        "    def richness(self):\n",
        "        pass\n",
        "\n",
        "class Mango(Fruit):\n",
        "    def taste(self):\n",
        "        print(\"mangoes are sweet\")\n",
        "\n",
        "    def color(self):\n",
        "        print(\"mangoes are yellow\")\n",
        "\n",
        "    def richness(self):\n",
        "        print(\"mangoes are rich in b12\")\n",
        "\n",
        "class Papaya(Fruit):  # Papaya should also inherit from Fruit\n",
        "    def taste(self):\n",
        "        print(\"taste of papaya is magical\")\n",
        "\n",
        "    def color(self):\n",
        "        print(\"narangi\")\n",
        "\n",
        "p1 = Papaya()\n",
        "p1.richness()  # Corrected to include parentheses to call the method\n",
        "p1.taste()     # Corrected to include parentheses to call the method\n"
      ],
      "metadata": {
        "colab": {
          "base_uri": "https://localhost:8080/"
        },
        "id": "inWiDbCNCzDb",
        "outputId": "ef7699b0-9380-4471-af05-27be52699cd9"
      },
      "execution_count": null,
      "outputs": [
        {
          "output_type": "stream",
          "name": "stdout",
          "text": [
            "taste of papaya is magical\n"
          ]
        }
      ]
    }
  ]
}