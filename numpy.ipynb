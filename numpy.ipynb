{
  "nbformat": 4,
  "nbformat_minor": 0,
  "metadata": {
    "colab": {
      "provenance": [],
      "authorship_tag": "ABX9TyN6vdsmkUzMvdOSbLPrVbDE",
      "include_colab_link": true
    },
    "kernelspec": {
      "name": "python3",
      "display_name": "Python 3"
    },
    "language_info": {
      "name": "python"
    }
  },
  "cells": [
    {
      "cell_type": "markdown",
      "metadata": {
        "id": "view-in-github",
        "colab_type": "text"
      },
      "source": [
        "<a href=\"https://colab.research.google.com/github/sharma1saransh/python/blob/main/numpy.ipynb\" target=\"_parent\"><img src=\"https://colab.research.google.com/assets/colab-badge.svg\" alt=\"Open In Colab\"/></a>"
      ]
    },
    {
      "cell_type": "code",
      "execution_count": null,
      "metadata": {
        "id": "k4L4rO-q8kKl",
        "colab": {
          "base_uri": "https://localhost:8080/"
        },
        "outputId": "73fae25b-0280-4357-80be-9a9beba8e0b7"
      },
      "outputs": [
        {
          "output_type": "stream",
          "name": "stdout",
          "text": [
            "[[ 1  2  3  4]\n",
            " [ 5  6  7  8]\n",
            " [20 11  0  1]]\n"
          ]
        },
        {
          "output_type": "execute_result",
          "data": {
            "text/plain": [
              "array([[ 1,  2,  3],\n",
              "       [ 4,  5,  6],\n",
              "       [ 7,  8, 20],\n",
              "       [11,  0,  1]])"
            ]
          },
          "metadata": {},
          "execution_count": 13
        }
      ],
      "source": [
        "#numpy is used to create nd arrays where nd stands for n dimensions i.e 1d 2d 3d etc\n",
        "import numpy as np\n",
        "lst1=[1,2,3,4]\n",
        "lst2=[5,6,7,8]\n",
        "lst3=[20,11,0,1]\n",
        "arr=np.array([lst1,lst2,lst3])\n",
        "print(arr)\n",
        "arr.reshape(4,3)  #reshapes the printed array into the dimensions provided"
      ]
    },
    {
      "cell_type": "markdown",
      "source": [
        "numpy is faster than tuples and lists\n",
        "\n"
      ],
      "metadata": {
        "id": "UCNSjZVRBFBp"
      }
    },
    {
      "cell_type": "code",
      "source": [
        "#using a tuple in numpy\n",
        "import numpy as np\n",
        "t1 = (5,6,0,3)\n",
        "t2 = (3,2,5,6)\n",
        "t3 = (8,9,4,3)\n",
        "arr1 = np.array(t1)\n",
        "\n",
        "arr2 = np.array(t2)\n",
        "\n",
        "arr3 = np.array(t3)\n",
        "arr[1:2:3]"
      ],
      "metadata": {
        "colab": {
          "base_uri": "https://localhost:8080/"
        },
        "id": "P6kR1_SzAKf7",
        "outputId": "11ee150f-fc30-4b07-aab3-10011cd36cf3"
      },
      "execution_count": null,
      "outputs": [
        {
          "output_type": "execute_result",
          "data": {
            "text/plain": [
              "array([[5, 6, 7, 8]])"
            ]
          },
          "metadata": {},
          "execution_count": 41
        }
      ]
    },
    {
      "cell_type": "code",
      "source": [
        "#arranging\n",
        "import numpy as np\n",
        "np.arange(2,18).reshape(4,4)"
      ],
      "metadata": {
        "colab": {
          "base_uri": "https://localhost:8080/"
        },
        "id": "f63SmT5vHRuh",
        "outputId": "ee05f007-b672-4bc1-9ad1-971bb62a0465"
      },
      "execution_count": 48,
      "outputs": [
        {
          "output_type": "execute_result",
          "data": {
            "text/plain": [
              "array([[ 2,  3,  4,  5],\n",
              "       [ 6,  7,  8,  9],\n",
              "       [10, 11, 12, 13],\n",
              "       [14, 15, 16, 17]])"
            ]
          },
          "metadata": {},
          "execution_count": 48
        }
      ]
    },
    {
      "cell_type": "code",
      "source": [
        "#random picking of numbers from a given set of numbers or their range\n",
        "import numpy as np\n",
        "np.random.randint(0,50,4).reshape(2,2) #0 - start ; 50 - termination ; 4 - random 4 numbers\n"
      ],
      "metadata": {
        "colab": {
          "base_uri": "https://localhost:8080/"
        },
        "id": "B6HcFDY7GxUf",
        "outputId": "556e3b2d-0819-4773-a992-ea87482c7bff"
      },
      "execution_count": 52,
      "outputs": [
        {
          "output_type": "execute_result",
          "data": {
            "text/plain": [
              "array([[26, 39],\n",
              "       [ 9, 42]])"
            ]
          },
          "metadata": {},
          "execution_count": 52
        }
      ]
    }
  ]
}